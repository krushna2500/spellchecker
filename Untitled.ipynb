{
 "cells": [
  {
   "cell_type": "code",
   "execution_count": 17,
   "id": "93e820e0",
   "metadata": {},
   "outputs": [],
   "source": [
    "sim_word_preference = {'krishani': 0.4444444444444444, 'kishana': 0.2928932188134524, 'krisana': 0.4107443490112104, 'krishank': 0.4444444444444444, 'kasana': 0.37005921165128797, 'krasna': 0.2440710539815456, 'krushan': 0.4107443490112104, 'kradhana': 0.2222222222222222, 'kashan': 0.37005921165128797, 'khashina': 0.33333333333333337, 'krishanya': 0.3675444679663241, 'krishtna': 0.4444444444444444, 'krishan': 0.4107443490112104, 'krishant': 0.4444444444444444, 'krishang': 0.4444444444444444, 'kiashan': 0.4107443490112104, 'keshana': 0.2928932188134524, 'koshana': 0.2928932188134524, 'krishanga': 0.3675444679663241, 'kruthana': 0.33333333333333337, 'krajana': 0.2928932188134524, 'krishana': 0.2222222222222222, 'krushna': 0.4107443490112104, 'krishanu': 0.4444444444444444}"
   ]
  },
  {
   "cell_type": "code",
   "execution_count": 18,
   "id": "b9b61497",
   "metadata": {},
   "outputs": [
    {
     "data": {
      "text/plain": [
       "dict"
      ]
     },
     "execution_count": 18,
     "metadata": {},
     "output_type": "execute_result"
    }
   ],
   "source": [
    "type(sim_word_preference)"
   ]
  },
  {
   "cell_type": "code",
   "execution_count": 20,
   "id": "60ef5504",
   "metadata": {},
   "outputs": [
    {
     "data": {
      "text/plain": [
       "[0.2222222222222222,\n",
       " 0.2222222222222222,\n",
       " 0.2440710539815456,\n",
       " 0.2928932188134524,\n",
       " 0.2928932188134524,\n",
       " 0.2928932188134524,\n",
       " 0.2928932188134524,\n",
       " 0.33333333333333337,\n",
       " 0.33333333333333337,\n",
       " 0.3675444679663241,\n",
       " 0.3675444679663241,\n",
       " 0.37005921165128797,\n",
       " 0.37005921165128797,\n",
       " 0.4107443490112104,\n",
       " 0.4107443490112104,\n",
       " 0.4107443490112104,\n",
       " 0.4107443490112104,\n",
       " 0.4107443490112104,\n",
       " 0.4444444444444444,\n",
       " 0.4444444444444444,\n",
       " 0.4444444444444444,\n",
       " 0.4444444444444444,\n",
       " 0.4444444444444444,\n",
       " 0.4444444444444444]"
      ]
     },
     "execution_count": 20,
     "metadata": {},
     "output_type": "execute_result"
    }
   ],
   "source": [
    "sorted(sim_word_preference.values())"
   ]
  },
  {
   "cell_type": "code",
   "execution_count": 27,
   "id": "0bb0d821",
   "metadata": {},
   "outputs": [
    {
     "data": {
      "text/plain": [
       "[('kradhana', 0.2222222222222222),\n",
       " ('krishana', 0.2222222222222222),\n",
       " ('krasna', 0.2440710539815456),\n",
       " ('kishana', 0.2928932188134524),\n",
       " ('keshana', 0.2928932188134524),\n",
       " ('koshana', 0.2928932188134524),\n",
       " ('krajana', 0.2928932188134524),\n",
       " ('khashina', 0.33333333333333337),\n",
       " ('kruthana', 0.33333333333333337),\n",
       " ('krishanya', 0.3675444679663241),\n",
       " ('krishanga', 0.3675444679663241),\n",
       " ('kasana', 0.37005921165128797),\n",
       " ('kashan', 0.37005921165128797),\n",
       " ('krisana', 0.4107443490112104),\n",
       " ('krushan', 0.4107443490112104),\n",
       " ('krishan', 0.4107443490112104),\n",
       " ('kiashan', 0.4107443490112104),\n",
       " ('krushna', 0.4107443490112104),\n",
       " ('krishani', 0.4444444444444444),\n",
       " ('krishank', 0.4444444444444444),\n",
       " ('krishtna', 0.4444444444444444),\n",
       " ('krishant', 0.4444444444444444),\n",
       " ('krishang', 0.4444444444444444),\n",
       " ('krishanu', 0.4444444444444444)]"
      ]
     },
     "execution_count": 27,
     "metadata": {},
     "output_type": "execute_result"
    }
   ],
   "source": [
    "sorted(sim_word_preference.items(), key=lambda item: item[1])"
   ]
  },
  {
   "cell_type": "code",
   "execution_count": 28,
   "id": "1ffccede",
   "metadata": {},
   "outputs": [],
   "source": [
    "from abydos.phonetic import RefinedSoundex\n"
   ]
  },
  {
   "cell_type": "code",
   "execution_count": 34,
   "id": "4b3854f0",
   "metadata": {},
   "outputs": [],
   "source": [
    "a = RefinedSoundex()"
   ]
  },
  {
   "cell_type": "code",
   "execution_count": 35,
   "id": "51b2288b",
   "metadata": {},
   "outputs": [
    {
     "data": {
      "text/plain": [
       "'K938'"
      ]
     },
     "execution_count": 35,
     "metadata": {},
     "output_type": "execute_result"
    }
   ],
   "source": [
    "a.encode(\"krashana\")"
   ]
  },
  {
   "cell_type": "code",
   "execution_count": 39,
   "id": "91844e6f",
   "metadata": {},
   "outputs": [
    {
     "data": {
      "text/plain": [
       "'K93'"
      ]
     },
     "execution_count": 39,
     "metadata": {},
     "output_type": "execute_result"
    }
   ],
   "source": [
    "a.encode(\"krish\")"
   ]
  },
  {
   "cell_type": "code",
   "execution_count": null,
   "id": "42594694",
   "metadata": {},
   "outputs": [],
   "source": []
  }
 ],
 "metadata": {
  "kernelspec": {
   "display_name": "Python 3 (ipykernel)",
   "language": "python",
   "name": "python3"
  },
  "language_info": {
   "codemirror_mode": {
    "name": "ipython",
    "version": 3
   },
   "file_extension": ".py",
   "mimetype": "text/x-python",
   "name": "python",
   "nbconvert_exporter": "python",
   "pygments_lexer": "ipython3",
   "version": "3.10.7"
  }
 },
 "nbformat": 4,
 "nbformat_minor": 5
}
