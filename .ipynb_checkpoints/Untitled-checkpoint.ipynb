{
 "cells": [
  {
   "cell_type": "code",
   "execution_count": 17,
   "id": "a98b26aa",
   "metadata": {},
   "outputs": [],
   "source": [
    "sim_word_preference = {'krishani': 0.4444444444444444, 'kishana': 0.2928932188134524, 'krisana': 0.4107443490112104, 'krishank': 0.4444444444444444, 'kasana': 0.37005921165128797, 'krasna': 0.2440710539815456, 'krushan': 0.4107443490112104, 'kradhana': 0.2222222222222222, 'kashan': 0.37005921165128797, 'khashina': 0.33333333333333337, 'krishanya': 0.3675444679663241, 'krishtna': 0.4444444444444444, 'krishan': 0.4107443490112104, 'krishant': 0.4444444444444444, 'krishang': 0.4444444444444444, 'kiashan': 0.4107443490112104, 'keshana': 0.2928932188134524, 'koshana': 0.2928932188134524, 'krishanga': 0.3675444679663241, 'kruthana': 0.33333333333333337, 'krajana': 0.2928932188134524, 'krishana': 0.2222222222222222, 'krushna': 0.4107443490112104, 'krishanu': 0.4444444444444444}"
   ]
  },
  {
   "cell_type": "code",
   "execution_count": 18,
   "id": "a99ce9db",
   "metadata": {},
   "outputs": [
    {
     "data": {
      "text/plain": [
       "dict"
      ]
     },
     "execution_count": 18,
     "metadata": {},
     "output_type": "execute_result"
    }
   ],
   "source": [
    "type(sim_word_preference)"
   ]
  },
  {
   "cell_type": "code",
   "execution_count": 20,
   "id": "698fdba2",
   "metadata": {},
   "outputs": [
    {
     "data": {
      "text/plain": [
       "[0.2222222222222222,\n",
       " 0.2222222222222222,\n",
       " 0.2440710539815456,\n",
       " 0.2928932188134524,\n",
       " 0.2928932188134524,\n",
       " 0.2928932188134524,\n",
       " 0.2928932188134524,\n",
       " 0.33333333333333337,\n",
       " 0.33333333333333337,\n",
       " 0.3675444679663241,\n",
       " 0.3675444679663241,\n",
       " 0.37005921165128797,\n",
       " 0.37005921165128797,\n",
       " 0.4107443490112104,\n",
       " 0.4107443490112104,\n",
       " 0.4107443490112104,\n",
       " 0.4107443490112104,\n",
       " 0.4107443490112104,\n",
       " 0.4444444444444444,\n",
       " 0.4444444444444444,\n",
       " 0.4444444444444444,\n",
       " 0.4444444444444444,\n",
       " 0.4444444444444444,\n",
       " 0.4444444444444444]"
      ]
     },
     "execution_count": 20,
     "metadata": {},
     "output_type": "execute_result"
    }
   ],
   "source": [
    "sorted(sim_word_preference.values())"
   ]
  },
  {
   "cell_type": "code",
   "execution_count": 25,
   "id": "e1ed14f4",
   "metadata": {},
   "outputs": [
    {
     "ename": "SyntaxError",
     "evalue": "positional argument follows keyword argument (120124430.py, line 1)",
     "output_type": "error",
     "traceback": [
      "\u001b[0;36m  Cell \u001b[0;32mIn [25], line 1\u001b[0;36m\u001b[0m\n\u001b[0;31m    sorted(sim_word_preference.items(), key=lambda item: item[1], nysiis(item[1]))\u001b[0m\n\u001b[0m                                                                                 ^\u001b[0m\n\u001b[0;31mSyntaxError\u001b[0m\u001b[0;31m:\u001b[0m positional argument follows keyword argument\n"
     ]
    }
   ],
   "source": [
    "sorted(sim_word_preference.items(), key=lambda item: item[1], print(item)"
   ]
  },
  {
   "cell_type": "code",
   "execution_count": null,
   "id": "d88b8f23",
   "metadata": {},
   "outputs": [],
   "source": []
  },
  {
   "cell_type": "code",
   "execution_count": null,
   "id": "fc8e1371",
   "metadata": {},
   "outputs": [],
   "source": []
  },
  {
   "cell_type": "code",
   "execution_count": null,
   "id": "66c0d95a",
   "metadata": {},
   "outputs": [],
   "source": []
  }
 ],
 "metadata": {
  "kernelspec": {
   "display_name": "Python 3 (ipykernel)",
   "language": "python",
   "name": "python3"
  },
  "language_info": {
   "codemirror_mode": {
    "name": "ipython",
    "version": 3
   },
   "file_extension": ".py",
   "mimetype": "text/x-python",
   "name": "python",
   "nbconvert_exporter": "python",
   "pygments_lexer": "ipython3",
   "version": "3.10.7"
  }
 },
 "nbformat": 4,
 "nbformat_minor": 5
}
